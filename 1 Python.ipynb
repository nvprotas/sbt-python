{
 "cells": [
  {
   "cell_type": "markdown",
   "metadata": {},
   "source": [
    "# 1.  Python\n",
    "## 1\n",
    "1. Кортежи являются неизменяемыми. \n",
    "2. Т.к. кортежи неизменяемы, от них можно вычислять хэш. В сет и в качестве ключа в dict можно добавлять только hashable типы, т.е. только неизменяемые. Следовательно, кортежи можно использовать, а списки -- нет.\n",
    "3. Dict в python реализован на хэш-таблицах => key должен быть hashable.\n",
    "4. Range - возвращает список, xrange - генератор.\n",
    "5. List comprehension -- удобный способ генерировать списки.\n",
    "6. Map: принимает функцию и набор данных. Создаёт новую коллекцию, выполняет функцию на каждой позиции данных и добавляет возвращаемое значение в новую коллекцию. Возвращает новую коллекцию. Reduce: принимает функцию и набор пунктов. Возвращает значение, получаемое комбинированием всех пунктов."
   ]
  },
  {
   "cell_type": "code",
   "execution_count": 5,
   "metadata": {},
   "outputs": [
    {
     "name": "stdout",
     "output_type": "stream",
     "text": [
      "[4, 4, 4]\n"
     ]
    }
   ],
   "source": [
    "#Пример map():\n",
    "name_lengths = list(map(len, ['Маша', 'Петя', 'Вася']))\n",
    "print (name_lengths)"
   ]
  },
  {
   "cell_type": "code",
   "execution_count": 9,
   "metadata": {},
   "outputs": [
    {
     "name": "stdout",
     "output_type": "stream",
     "text": [
      "10\n"
     ]
    }
   ],
   "source": [
    "#Пример reduce():\n",
    "import functools\n",
    "sum = functools.reduce(lambda a, x: a + x, [0, 1, 2, 3, 4])\n",
    "print (sum)"
   ]
  },
  {
   "cell_type": "markdown",
   "metadata": {},
   "source": [
    "## 2"
   ]
  },
  {
   "cell_type": "code",
   "execution_count": 13,
   "metadata": {},
   "outputs": [],
   "source": [
    "def Fib(n):\n",
    "    if n < 2:\n",
    "        return n\n",
    "    else:\n",
    "        return Fib(n - 1) + Fib(n - 2)"
   ]
  },
  {
   "cell_type": "code",
   "execution_count": 17,
   "metadata": {},
   "outputs": [
    {
     "name": "stdout",
     "output_type": "stream",
     "text": [
      "Fib(10) = 55\n",
      "Fib(20) = 6765\n",
      "Fib(30) = 832040\n"
     ]
    }
   ],
   "source": [
    "print (\"Fib({0}) = {1}\".format(10, Fib(10)))\n",
    "print (\"Fib({0}) = {1}\".format(20, Fib(20)))\n",
    "print (\"Fib({0}) = {1}\".format(30, Fib(30)))"
   ]
  },
  {
   "cell_type": "markdown",
   "metadata": {},
   "source": [
    "## 3"
   ]
  },
  {
   "cell_type": "code",
   "execution_count": 51,
   "metadata": {
    "scrolled": true
   },
   "outputs": [
    {
     "name": "stdout",
     "output_type": "stream",
     "text": [
      "Populating the interactive namespace from numpy and matplotlib\n"
     ]
    },
    {
     "name": "stderr",
     "output_type": "stream",
     "text": [
      "d:\\Users\\Nikolay\\Anaconda3\\lib\\site-packages\\IPython\\core\\magics\\pylab.py:160: UserWarning: pylab import has clobbered these variables: ['plt']\n",
      "`%matplotlib` prevents importing * from pylab and numpy\n",
      "  \"\\n`%matplotlib` prevents importing * from pylab and numpy\"\n"
     ]
    }
   ],
   "source": [
    "import time\n",
    "import matplotlib.pylab as plt\n",
    "%pylab inline\n",
    "\n",
    "N = list(range(0,40,2))\n",
    "times = []\n",
    "for n in N:\n",
    "    time1 = time.time()\n",
    "    Fib(n)\n",
    "    time2 = time.time()\n",
    "    times.append(time2 - time1)"
   ]
  },
  {
   "cell_type": "code",
   "execution_count": 52,
   "metadata": {},
   "outputs": [
    {
     "data": {
      "text/plain": [
       "Text(0,0.5,'Time(seconds)')"
      ]
     },
     "execution_count": 52,
     "metadata": {},
     "output_type": "execute_result"
    },
    {
     "data": {
      "image/png": "[encoded data removed]",
      "text/plain": [
       "<Figure size 432x288 with 1 Axes>"
      ]
     },
     "metadata": {},
     "output_type": "display_data"
    }
   ],
   "source": [
    "plt.plot(N,times)\n",
    "plt.xlabel(\"N\")\n",
    "plt.ylabel(\"Time(seconds)\")"
   ]
  },
  {
   "cell_type": "markdown",
   "metadata": {},
   "source": [
    "## 4 и 5"
   ]
  },
  {
   "cell_type": "code",
   "execution_count": 78,
   "metadata": {},
   "outputs": [],
   "source": [
    "def transformComplex(Re,Im):\n",
    "    \"\"\"\n",
    "    Return module and argument of entered real and imagenery parts of complex number.\n",
    "    >>> transformComplex(0,0)\n",
    "    (0.0, 0.0)\n",
    "    >>> transformComplex(3,4)\n",
    "    (5.0, 0.9272952180016122)\n",
    "    \"\"\"\n",
    "    if Re == 0:\n",
    "        return(math.sqrt(Re**2+Im**2),0.0)\n",
    "    else:\n",
    "        return(math.sqrt(Re**2+Im**2),math.atan(Im/Re))"
   ]
  },
  {
   "cell_type": "code",
   "execution_count": 79,
   "metadata": {},
   "outputs": [
    {
     "data": {
      "text/plain": [
       "(1.9999999999999998, 1.0471975511965976)"
      ]
     },
     "execution_count": 79,
     "metadata": {},
     "output_type": "execute_result"
    }
   ],
   "source": [
    "transformComplex(1,sqrt(3))"
   ]
  },
  {
   "cell_type": "code",
   "execution_count": 80,
   "metadata": {},
   "outputs": [
    {
     "data": {
      "text/plain": [
       "TestResults(failed=0, attempted=2)"
      ]
     },
     "execution_count": 80,
     "metadata": {},
     "output_type": "execute_result"
    }
   ],
   "source": [
    "import doctest\n",
    "doctest.testmod()"
   ]
  },
  {
   "cell_type": "markdown",
   "metadata": {},
   "source": [
    "## 6"
   ]
  },
  {
   "cell_type": "code",
   "execution_count": 91,
   "metadata": {},
   "outputs": [],
   "source": [
    "class ComplexNumber:\n",
    "    def __init__(self, Re, Im):\n",
    "        self.Re = Re\n",
    "        self.Im = Im\n",
    "        \n",
    "    def getModule(self):\n",
    "        return (math.sqrt(self.Re**2+self.Im**2))\n",
    "    \n",
    "    def getArg(self):\n",
    "        if self.Re == 0:\n",
    "            return 0\n",
    "        else:\n",
    "            return math.atan(self.Im/self.Re)"
   ]
  },
  {
   "cell_type": "code",
   "execution_count": 93,
   "metadata": {},
   "outputs": [
    {
     "name": "stdout",
     "output_type": "stream",
     "text": [
      "0.9272952180016122\n",
      "5.0\n"
     ]
    }
   ],
   "source": [
    "cnumber = ComplexNumber(3,4)\n",
    "print (cnumber.getArg())\n",
    "print (cnumber.getModule())\n"
   ]
  },
  {
   "cell_type": "markdown",
   "metadata": {},
   "source": [
    "## 7"
   ]
  },
  {
   "cell_type": "code",
   "execution_count": 5,
   "metadata": {},
   "outputs": [],
   "source": [
    "import time"
   ]
  },
  {
   "cell_type": "code",
   "execution_count": 6,
   "metadata": {},
   "outputs": [],
   "source": [
    "def timer(f):\n",
    "    def tmp(*args):\n",
    "        t = time.time()\n",
    "        res = f(*args)\n",
    "        return time.time() - t\n",
    "\n",
    "    return tmp"
   ]
  },
  {
   "cell_type": "code",
   "execution_count": 34,
   "metadata": {},
   "outputs": [
    {
     "data": {
      "text/plain": [
       "1.5463640689849854"
      ]
     },
     "execution_count": 34,
     "metadata": {},
     "output_type": "execute_result"
    }
   ],
   "source": [
    "@timer\n",
    "def Fib(n):\n",
    "    if n < 2:\n",
    "        return n\n",
    "    else:\n",
    "        return Fib(n - 1) + Fib(n - 2)\n",
    "    \n",
    "Fib(30)"
   ]
  },
  {
   "cell_type": "code",
   "execution_count": 28,
   "metadata": {},
   "outputs": [],
   "source": [
    "def cacher(f):\n",
    "    cache = {}\n",
    "    def tmp(*args):\n",
    "        if args in cache:\n",
    "            return cache[args]\n",
    "        else:\n",
    "            res = f(*args)\n",
    "            cache[args] = res\n",
    "            return res\n",
    "    return tmp"
   ]
  },
  {
   "cell_type": "code",
   "execution_count": 36,
   "metadata": {},
   "outputs": [
    {
     "data": {
      "text/plain": [
       "0.0"
      ]
     },
     "execution_count": 36,
     "metadata": {},
     "output_type": "execute_result"
    }
   ],
   "source": [
    "@cacher\n",
    "@timer\n",
    "def Fib(n):\n",
    "    if n < 2:\n",
    "        return n\n",
    "    else:\n",
    "        return Fib(n - 1) + Fib(n - 2)\n",
    "    \n",
    "Fib(30)"
   ]
  },
  {
   "cell_type": "code",
   "execution_count": 35,
   "metadata": {},
   "outputs": [
    {
     "data": {
      "text/plain": [
       "0.0"
      ]
     },
     "execution_count": 35,
     "metadata": {},
     "output_type": "execute_result"
    }
   ],
   "source": [
    "@timer\n",
    "@cacher\n",
    "def Fib(n):\n",
    "    if n < 2:\n",
    "        return n\n",
    "    else:\n",
    "        return Fib(n - 1) + Fib(n - 2)\n",
    "    \n",
    "Fib(30)"
   ]
  },
  {
   "cell_type": "markdown",
   "metadata": {},
   "source": [
    "## 8 и 9"
   ]
  },
  {
   "cell_type": "markdown",
   "metadata": {},
   "source": [
    "@property посзволяет отделить свойства класса от методов, позволяет обращаться к \"вычисляемым\" свойствам не как к функциям, а как к атрибутам"
   ]
  },
  {
   "cell_type": "code",
   "execution_count": 49,
   "metadata": {},
   "outputs": [],
   "source": [
    "class ComplexNumber:\n",
    "    def __init__(self):\n",
    "        self.Re = None\n",
    "        self.Im = None\n",
    "    \n",
    "    @property\n",
    "    def Re(self):\n",
    "        return self.Re\n",
    "    \n",
    "    @property\n",
    "    def Im(self):\n",
    "        return self.Im\n",
    "    \n",
    "    @Im.setter\n",
    "    def Im(self, valIm):\n",
    "        self.Im = valIm\n",
    "        \n",
    "    @Re.setter\n",
    "    def Re(self, valRe):\n",
    "        self.Re = valRe"
   ]
  },
  {
   "cell_type": "code",
   "execution_count": 54,
   "metadata": {},
   "outputs": [
    {
     "name": "stdout",
     "output_type": "stream",
     "text": [
      "2\n",
      "1\n"
     ]
    }
   ],
   "source": [
    "cnumber = ComplexNumber\n",
    "cnumber.Im = 1\n",
    "cnumber.Re = 2\n",
    "\n",
    "print(cnumber.Re)\n",
    "print(cnumber.Im)"
   ]
  },
  {
   "cell_type": "code",
   "execution_count": null,
   "metadata": {},
   "outputs": [],
   "source": []
  }
 ],
 "metadata": {
  "kernelspec": {
   "display_name": "Python 3",
   "language": "python",
   "name": "python3"
  },
  "language_info": {
   "codemirror_mode": {
    "name": "ipython",
    "version": 3
   },
   "file_extension": ".py",
   "mimetype": "text/x-python",
   "name": "python",
   "nbconvert_exporter": "python",
   "pygments_lexer": "ipython3",
   "version": "3.6.5"
  }
 },
 "nbformat": 4,
 "nbformat_minor": 2
}
