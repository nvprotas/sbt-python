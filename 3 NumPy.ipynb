{
 "cells": [
  {
   "cell_type": "markdown",
   "metadata": {},
   "source": [
    "# 3 NumPy"
   ]
  },
  {
   "cell_type": "markdown",
   "metadata": {},
   "source": [
    "## 1"
   ]
  },
  {
   "cell_type": "code",
   "execution_count": 18,
   "metadata": {},
   "outputs": [],
   "source": [
    "import numpy as np\n",
    "arr = np.random.randint(20,size = (3,4,2))"
   ]
  },
  {
   "cell_type": "code",
   "execution_count": 19,
   "metadata": {},
   "outputs": [
    {
     "name": "stdout",
     "output_type": "stream",
     "text": [
      "[[[ 0  5]\n",
      "  [13  9]\n",
      "  [10  4]\n",
      "  [ 4  2]]\n",
      "\n",
      " [[ 6  2]\n",
      "  [19 13]\n",
      "  [ 0 13]\n",
      "  [ 5  3]]\n",
      "\n",
      " [[10 10]\n",
      "  [ 5  9]\n",
      "  [16 12]\n",
      "  [ 7  4]]]\n"
     ]
    }
   ],
   "source": [
    "print(arr)"
   ]
  },
  {
   "cell_type": "code",
   "execution_count": 28,
   "metadata": {},
   "outputs": [
    {
     "data": {
      "text/plain": [
       "9"
      ]
     },
     "execution_count": 28,
     "metadata": {},
     "output_type": "execute_result"
    }
   ],
   "source": [
    "arr[0,1,1]"
   ]
  },
  {
   "cell_type": "code",
   "execution_count": 29,
   "metadata": {},
   "outputs": [
    {
     "data": {
      "text/plain": [
       "array([[ 0,  5],\n",
       "       [13,  9],\n",
       "       [10,  4],\n",
       "       [ 4,  2]])"
      ]
     },
     "execution_count": 29,
     "metadata": {},
     "output_type": "execute_result"
    }
   ],
   "source": [
    "arr[0]"
   ]
  },
  {
   "cell_type": "code",
   "execution_count": 31,
   "metadata": {},
   "outputs": [
    {
     "data": {
      "text/plain": [
       "array([[[ 0,  5],\n",
       "        [13,  9],\n",
       "        [10,  4],\n",
       "        [ 4,  2]],\n",
       "\n",
       "       [[ 6,  2],\n",
       "        [19, 13],\n",
       "        [ 0, 13],\n",
       "        [ 5,  3]]])"
      ]
     },
     "execution_count": 31,
     "metadata": {},
     "output_type": "execute_result"
    }
   ],
   "source": [
    "arr[0:2]"
   ]
  },
  {
   "cell_type": "code",
   "execution_count": 39,
   "metadata": {},
   "outputs": [
    {
     "data": {
      "text/plain": [
       "array([[ 5,  4],\n",
       "       [ 2, 13]])"
      ]
     },
     "execution_count": 39,
     "metadata": {},
     "output_type": "execute_result"
    }
   ],
   "source": [
    "arr[0:2,0:4:2,1]"
   ]
  },
  {
   "cell_type": "markdown",
   "metadata": {},
   "source": [
    "## 2"
   ]
  },
  {
   "cell_type": "code",
   "execution_count": 69,
   "metadata": {},
   "outputs": [],
   "source": [
    "import time"
   ]
  },
  {
   "cell_type": "code",
   "execution_count": 80,
   "metadata": {},
   "outputs": [],
   "source": [
    "array = list(range(250000))"
   ]
  },
  {
   "cell_type": "code",
   "execution_count": 103,
   "metadata": {},
   "outputs": [],
   "source": [
    "nparr = np.array(array)"
   ]
  },
  {
   "cell_type": "code",
   "execution_count": 140,
   "metadata": {},
   "outputs": [
    {
     "name": "stdout",
     "output_type": "stream",
     "text": [
      "Время для list: 0.02788762331008911\n",
      "Время для nparray: 0.0003160381317138672\n",
      "Разница во времени выполнения в 88.0 раз\n"
     ]
    }
   ],
   "source": [
    "times = []\n",
    "timesnp = []\n",
    "for i in range(100):\n",
    "    \n",
    "    time1 = time.time()\n",
    "    array2 = list([x*2 for x in array])\n",
    "    times.append(time.time()- time1)\n",
    "    \n",
    "    time1 = time.time()\n",
    "    nparr2 = nparr * 2\n",
    "    timesnp.append(time.time()- time1)\n",
    "    \n",
    "print (\"Время для list: {0}\".format(np.mean(times)))\n",
    "print (\"Время для nparray: {0}\".format(np.mean(timesnp)))\n",
    "print (\"Разница во времени выполнения в {0} раз\".format(round(np.mean(times)/np.mean(timesnp))))"
   ]
  },
  {
   "cell_type": "markdown",
   "metadata": {},
   "source": [
    "# 3"
   ]
  },
  {
   "cell_type": "code",
   "execution_count": 160,
   "metadata": {},
   "outputs": [
    {
     "name": "stdout",
     "output_type": "stream",
     "text": [
      "Время для myLinspace: 0.03471694707870483\n",
      "Время для npLinspace: 0.0004723858833312988\n",
      "Разница во времени выполнения в 73.0 раз\n"
     ]
    }
   ],
   "source": [
    "# np.linspace()\n",
    "start = 0\n",
    "stop = 10**5\n",
    "num = 10**5+1\n",
    "\n",
    "\n",
    "\n",
    "times = []\n",
    "timesnp = []\n",
    "for i in range(100):\n",
    "    \n",
    "    time1 = time.time()\n",
    "    myLinspace = [start + stop/(num-1) * i for i in range(num)]\n",
    "    times.append(time.time()- time1)\n",
    "    \n",
    "    time1 = time.time()\n",
    "    nplinspace = np.linspace(start,stop,num)\n",
    "    timesnp.append(time.time()- time1)\n",
    "    \n",
    "print (\"Время для myLinspace: {0}\".format(np.mean(times)))\n",
    "print (\"Время для npLinspace: {0}\".format(np.mean(timesnp)))\n",
    "print (\"Разница во времени выполнения в {0} раз\".format(round(np.mean(times)/np.mean(timesnp))))\n"
   ]
  }
 ],
 "metadata": {
  "kernelspec": {
   "display_name": "Python 3",
   "language": "python",
   "name": "python3"
  },
  "language_info": {
   "codemirror_mode": {
    "name": "ipython",
    "version": 3
   },
   "file_extension": ".py",
   "mimetype": "text/x-python",
   "name": "python",
   "nbconvert_exporter": "python",
   "pygments_lexer": "ipython3",
   "version": "3.6.5"
  }
 },
 "nbformat": 4,
 "nbformat_minor": 2
}
